{
 "cells": [
  {
   "cell_type": "code",
   "execution_count": 1,
   "id": "321717b7-e290-4282-97d2-cb2d233c5a5f",
   "metadata": {},
   "outputs": [
    {
     "name": "stderr",
     "output_type": "stream",
     "text": [
      "/bin/bash: warning: setlocale: LC_ALL: cannot change locale (en_US.UTF-8)\n"
     ]
    },
    {
     "name": "stdout",
     "output_type": "stream",
     "text": [
      "Welcome to JupyROOT 6.24/06\n",
      "\n",
      "\u001b[1mRooFit v3.60 -- Developed by Wouter Verkerke and David Kirkby\u001b[0m \n",
      "                Copyright (C) 2000-2013 NIKHEF, University of California & Stanford University\n",
      "                All rights reserved, please read http://roofit.sourceforge.net/license.txt\n",
      "\n"
     ]
    }
   ],
   "source": [
    "%run 00_analysis_config.ipynb\n",
    "import math\n"
   ]
  },
  {
   "cell_type": "code",
   "execution_count": null,
   "id": "811d2be3-f9a7-4083-b058-1e00dba637fc",
   "metadata": {},
   "outputs": [],
   "source": [
    "data  = load_finetime(f\"{DATA_DIR}/102.data\", ch =ch, ftime_min=ftime_min, ftime_max=ftime_max, finetime_roll=0)\n",
    "data_baseline  = load_finetime(f\"{DATA_DIR}/117.data\", ch =ch, ftime_min=ftime_min, ftime_max=ftime_max, finetime_roll=0)\n",
    "\n",
    "\n",
    "# use time cut to select laser events\n",
    "mask_ft = (data[f\"FINE_calib_{ch}\"]>13.5)&(data[f\"FINE_calib_{ch}\"]<14.5)\n",
    "hist(data[f\"FINE_calib_{ch}\"], bins=np.linspace(0,25,250));\n",
    "hist(data[f\"FINE_calib_{ch}\"][mask_ft], bins=np.linspace(0,25,250));\n",
    "show()\n",
    "\n",
    "\n",
    "baseline = np.median(data_baseline[f\"CHARGE_{ch}\"][~np.isnan(data_baseline[f\"CHARGE_{ch}\"])])\n",
    "n,ibins,_ = hist(data[f\"CHARGE_{ch}\"][mask_ft]-baseline, bins=np.linspace(0,180,181),histtype=\"step\");\n",
    "# hist(data_baseline[f\"CHARGE_{ch}\"]-baseline, bins=np.linspace(0,180,181),histtype=\"step\");\n",
    "xlabel(\"Charge [ADU]\")\n",
    "ylabel(\"counts\")\n",
    "axvline(46,color=\"r\")\n",
    "axvline(127,color=\"r\")\n",
    "show()\n",
    "\n",
    "\n",
    "# peak_locs,peak_info = scipy.signal.find_peaks(n, threshold=20,prominence=20)\n",
    "# print(np.diff(peak_locs))\n",
    "# peak_gap = np.median(np.diff(peak_locs)) * (ibins[1]-ibins[0])\n",
    "peak_gap = (127-46)/12\n",
    "data[f\"CHARGE_calib_{ch}\"] = (data[f\"CHARGE_{ch}\"]-baseline)/peak_gap\n",
    "mask_nan = ~np.isnan(data[f\"CHARGE_calib_{ch}\"])\n",
    "hist(data[f\"CHARGE_calib_{ch}\"][mask_ft&mask_nan], bins=np.linspace(0,25,180),histtype=\"step\");\n",
    "xlabel(\"Charge [p.e.]\")\n",
    "ylabel(\"counts\")\n",
    "show()\n",
    "\n",
    "print(\"Average charge\",np.mean(data[f\"CHARGE_calib_{ch}\"][mask_ft&mask_nan]), \"[p.e.]\")"
   ]
  }
 ],
 "metadata": {
  "kernelspec": {
   "display_name": "SCDMS V04-07",
   "language": "python",
   "name": "scdms_v04-07"
  },
  "language_info": {
   "codemirror_mode": {
    "name": "ipython",
    "version": 3
   },
   "file_extension": ".py",
   "mimetype": "text/x-python",
   "name": "python",
   "nbconvert_exporter": "python",
   "pygments_lexer": "ipython3",
   "version": "3.8.10"
  }
 },
 "nbformat": 4,
 "nbformat_minor": 5
}
