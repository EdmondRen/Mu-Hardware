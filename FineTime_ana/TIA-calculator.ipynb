{
 "cells": [
  {
   "cell_type": "code",
   "execution_count": 1,
   "id": "67b4d205-fdb5-4c7a-a3a2-16df5a2b3273",
   "metadata": {},
   "outputs": [],
   "source": [
    "import pandas as pd\n",
    "import numpy as np\n",
    "import matplotlib.pyplot as plt\n",
    "from pylab import *\n",
    "import scipy.signal"
   ]
  },
  {
   "cell_type": "code",
   "execution_count": 7,
   "id": "80d1695d-8813-4795-9bcd-ae52de2956bd",
   "metadata": {},
   "outputs": [
    {
     "name": "stdout",
     "output_type": "stream",
     "text": [
      "F3db:  55.73 [MHz]\n",
      "Feedback capacitance Cf  4.93 [pF]\n",
      "Rise time  6.28 [ns]\n"
     ]
    }
   ],
   "source": [
    "def calc_f3db(GBP, Rf,Ctot):\n",
    "    return np.sqrt(GBP/ (2*np.pi*Rf*Ctot) )\n",
    "\n",
    "def calc_Cf(Rf, f3db):\n",
    "    return 1/ (2* np.pi * 0.707 * Rf * f3db)\n",
    "\n",
    "\n",
    "GBP = 8e9 # [Hz] OPA855, 8 GHz, \n",
    "Rf = 820\n",
    "Ctot = 500e-12\n",
    "\n",
    "f3db=calc_f3db(GBP, Rf,Ctot)\n",
    "Cf = calc_Cf(Rf, f3db)\n",
    "TRise = 0.35/f3db *1e9 # ns\n",
    "\n",
    "print(f\"F3db: {f3db/1e6 : .2f} [MHz]\")\n",
    "print(f\"Feedback capacitance Cf {Cf*1e12 : .2f} [pF]\")\n",
    "print(f\"Rise time {TRise : .2f} [ns]\")"
   ]
  },
  {
   "cell_type": "code",
   "execution_count": 14,
   "id": "2d0934e1-808c-435d-a32c-97a024f1ac6d",
   "metadata": {},
   "outputs": [
    {
     "name": "stdout",
     "output_type": "stream",
     "text": [
      "F3db:  77.87 [MHz]\n",
      "Feedback capacitance Cf  6.88 [pF]\n",
      "Rise time  4.49 [ns]\n"
     ]
    }
   ],
   "source": [
    "GBP = 8e9 # OPA855, 8 GHz, \n",
    "Rf = 420\n",
    "Ctot = 500e-12\n",
    "\n",
    "f3db=calc_f3db(GBP, Rf,Ctot)\n",
    "Cf = calc_Cf(Rf, f3db)\n",
    "TRise = 0.35/f3db *1e9 # ns\n",
    "\n",
    "print(f\"F3db: {f3db/1e6 : .2f} [MHz]\")\n",
    "print(f\"Feedback capacitance Cf {Cf*1e12 : .2f} [pF]\")\n",
    "print(f\"Rise time {TRise : .2f} [ns]\")"
   ]
  },
  {
   "cell_type": "code",
   "execution_count": 8,
   "id": "ec5e9e95-bca5-4811-9d9d-b16de7d0e889",
   "metadata": {},
   "outputs": [
    {
     "data": {
      "text/plain": [
       "11500.0"
      ]
     },
     "execution_count": 8,
     "metadata": {},
     "output_type": "execute_result"
    }
   ],
   "source": [
    "# Unit in MB\n",
    "N=4.6e9\n",
    "2.5e-3*N * 0.001"
   ]
  }
 ],
 "metadata": {
  "kernelspec": {
   "display_name": "SCDMS V04-07",
   "language": "python",
   "name": "scdms_v04-07"
  },
  "language_info": {
   "codemirror_mode": {
    "name": "ipython",
    "version": 3
   },
   "file_extension": ".py",
   "mimetype": "text/x-python",
   "name": "python",
   "nbconvert_exporter": "python",
   "pygments_lexer": "ipython3",
   "version": "3.8.10"
  }
 },
 "nbformat": 4,
 "nbformat_minor": 5
}
