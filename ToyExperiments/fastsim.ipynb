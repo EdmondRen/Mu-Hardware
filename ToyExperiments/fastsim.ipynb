{
 "cells": [
  {
   "cell_type": "code",
   "execution_count": 6,
   "id": "1b9bd3c6-9114-4f26-86d6-f3141ccb9192",
   "metadata": {},
   "outputs": [
    {
     "data": {
      "text/plain": [
       "<module 'helper_visa' from '/home/mathusla/tofpet/Mu-Hardware/SystemCharacterization/../Mu-Helper/muhelper/helper_visa.py'>"
      ]
     },
     "execution_count": 6,
     "metadata": {},
     "output_type": "execute_result"
    }
   ],
   "source": [
    "from importlib import reload\n",
    "import time\n",
    "import joblib\n",
    "from pylab import *\n",
    "from tqdm import tqdm\n",
    "\n",
    "\n",
    "import sys\n",
    "sys.path.append(\"../Mu-Helper/muhelper\")\n",
    "\n",
    "from helper_basic import *\n",
    "import helper_basic as hp\n",
    "import helper_finetime as hpt\n",
    "import helper_visa as vs\n",
    "reload(vs)\n",
    "\n"
   ]
  },
  {
   "cell_type": "code",
   "execution_count": 7,
   "id": "b0495379",
   "metadata": {},
   "outputs": [
    {
     "data": {
      "text/plain": [
       "helper_basic.ARS"
      ]
     },
     "execution_count": 7,
     "metadata": {},
     "output_type": "execute_result"
    }
   ],
   "source": [
    "reload(hp)"
   ]
  },
  {
   "cell_type": "code",
   "execution_count": 2,
   "id": "a8755031",
   "metadata": {},
   "outputs": [],
   "source": [
    "# import ROOT\n",
    "# npars = 4\n",
    "# f_pulse = ROOT.TF1(\"pulse\", Pulse, 1,0, 8,5,npars)\n",
    "\n",
    "N = 1000000\n",
    "x = np.random.uniform(0,50,N)\n",
    "y = np.random.uniform(0,1,N)\n",
    "tau_plastic = 5\n",
    "tau_fiber   = 8\n",
    "\n",
    "mask = y<hp.Pulse(x, 1, 0, tau_fiber, tau_plastic)\n",
    "\n",
    "x_selected = x[mask]"
   ]
  },
  {
   "cell_type": "code",
   "execution_count": 3,
   "id": "d9143018",
   "metadata": {},
   "outputs": [],
   "source": [
    "npe=10\n",
    "trigger_threshold=1.5\n",
    "xx = np.reshape(x_selected[:int(len(x_selected)//npe*npe)], (len(x_selected)//npe, npe))\n",
    "event_time_sorted = np.sort(xx, axis = 1)\n",
    "event_trigger_time = event_time_sorted[:,int(trigger_threshold)]"
   ]
  },
  {
   "cell_type": "code",
   "execution_count": 4,
   "id": "44e894b9",
   "metadata": {},
   "outputs": [
    {
     "data": {
      "image/png": "[encoded data removed]",
      "text/plain": [
       "<Figure size 640x480 with 1 Axes>"
      ]
     },
     "metadata": {},
     "output_type": "display_data"
    }
   ],
   "source": [
    "hist(event_trigger_time, bins=np.linspace(0,20,100));"
   ]
  }
 ],
 "metadata": {
  "kernelspec": {
   "display_name": "Python 3 (ipykernel)",
   "language": "python",
   "name": "python3"
  },
  "language_info": {
   "codemirror_mode": {
    "name": "ipython",
    "version": 3
   },
   "file_extension": ".py",
   "mimetype": "text/x-python",
   "name": "python",
   "nbconvert_exporter": "python",
   "pygments_lexer": "ipython3",
   "version": "3.10.12"
  }
 },
 "nbformat": 4,
 "nbformat_minor": 5
}
