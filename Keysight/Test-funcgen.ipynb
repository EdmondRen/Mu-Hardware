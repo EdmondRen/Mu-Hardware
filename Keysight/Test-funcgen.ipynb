{
 "cells": [
  {
   "cell_type": "code",
   "execution_count": 1,
   "id": "1b9bd3c6-9114-4f26-86d6-f3141ccb9192",
   "metadata": {},
   "outputs": [
    {
     "data": {
      "text/plain": [
       "<module 'helper_visa' from 'C:\\\\Users\\\\mathusla\\\\Documents\\\\MATHUSLA\\\\JupyterNotebooks\\\\Hardware\\\\Keysight\\\\..\\\\helper_visa.py'>"
      ]
     },
     "execution_count": 1,
     "metadata": {},
     "output_type": "execute_result"
    }
   ],
   "source": [
    "import sys\n",
    "sys.path.append(\"..\")\n",
    "\n",
    "from helper_basic import *\n",
    "import helper_basic as hp\n",
    "import helper_finetime as hpt\n",
    "import helper_visa as vs\n",
    "reload(vs)\n",
    "\n"
   ]
  },
  {
   "cell_type": "markdown",
   "id": "c522a5b1-fb25-4aaa-929c-d950b9de6900",
   "metadata": {},
   "source": [
    "# Step 1: connect to the Keysight 81160A generator\n",
    "- If you don't know the address, do vs.connect()\n",
    "- Otherwise, put the address in the argument will speed it up\n",
    "\n",
    "**Note** : You need to manually disconnect it after using, otherwise the equipment is stuck in remote mode   \n",
    "    **vs.disconnect(funcgen)**"
   ]
  },
  {
   "cell_type": "code",
   "execution_count": 114,
   "id": "e3920812-a89a-41b6-ac4f-c25bec2ade28",
   "metadata": {},
   "outputs": [
    {
     "name": "stdout",
     "output_type": "stream",
     "text": [
      "Connected to VISA [USB0::0x0957::0x4108::MY60410882::0::INSTR]:  Agilent Technologies,81160A,MY60410882,2.0.0.0-2.6\n",
      "\n"
     ]
    }
   ],
   "source": [
    "# funcgen = vs.connect(timeout=30000) # set 30 second timeout\n",
    "funcgen = vs.connect(\"USB0::0x0957::0x4108::MY60410882::0::INSTR\", timeout=30000) # set 30 second timeout\n",
    "# vs.disconnect(funcgen)"
   ]
  },
  {
   "cell_type": "code",
   "execution_count": 142,
   "id": "93f8e0cf-b308-4557-9fe5-afeeefecff35",
   "metadata": {},
   "outputs": [
    {
     "data": {
      "text/plain": [
       "<module 'helper_visa' from 'C:\\\\Users\\\\mathusla\\\\Documents\\\\MATHUSLA\\\\JupyterNotebooks\\\\Hardware\\\\Keysight\\\\..\\\\helper_visa.py'>"
      ]
     },
     "execution_count": 142,
     "metadata": {},
     "output_type": "execute_result"
    }
   ],
   "source": [
    "reload(vs)"
   ]
  },
  {
   "cell_type": "markdown",
   "id": "5853a8b6-f7ea-4ef3-9f67-989e545269c6",
   "metadata": {},
   "source": [
    "# Example 1: generate a pulse repetitively "
   ]
  },
  {
   "cell_type": "code",
   "execution_count": 146,
   "id": "d352a59f-34ff-4e10-8d0f-6af64788ab24",
   "metadata": {},
   "outputs": [
    {
     "data": {
      "image/png": "[encoded data removed]",
      "text/plain": [
       "<Figure size 640x480 with 1 Axes>"
      ]
     },
     "metadata": {},
     "output_type": "display_data"
    }
   ],
   "source": [
    "waveform_length = 16384\n",
    "samples_per_ns = 2.5 # 2.5 Gsps --> 2.5 samples per ns\n",
    "ch=1\n",
    "\n",
    "waveform_duration = waveform_length/samples_per_ns\n",
    "\n",
    "# Make the waveform and plot\n",
    "waveform = hp.pulse_2pole(6,20,samples_per_ns = samples_per_ns, total_samples = waveform_length, pre_trig_samples=10)\n",
    "waveform_14bit = float_to_ADU(waveform, bits=14)    \n",
    "plot(waveform_14bit)\n",
    "\n",
    "# Upload to keysight\n",
    "vs.upload_waveform(funcgen, waveform_14bit, waveform_duration = waveform_duration, ch=ch, trigger_mode=\"INTernal2\" output_voltage=0.3)"
   ]
  },
  {
   "cell_type": "markdown",
   "id": "f9bb2fd5-f233-44e3-9d19-ee1e97b83352",
   "metadata": {},
   "source": [
    "# Example 2: generate a pulse, trigger manually for once "
   ]
  },
  {
   "cell_type": "code",
   "execution_count": 145,
   "id": "a01a258d-e959-4c47-941a-c47f344d1a91",
   "metadata": {},
   "outputs": [],
   "source": [
    "vs.upload_waveform(funcgen, waveform_14bit, waveform_duration = waveform_duration, ch=ch, trigger_mode=\"MAN\", output_voltage=0.3)\n",
    "vs.trigger(funcgen)"
   ]
  }
 ],
 "metadata": {
  "kernelspec": {
   "display_name": "Python 3 (ipykernel)",
   "language": "python",
   "name": "python3"
  },
  "language_info": {
   "codemirror_mode": {
    "name": "ipython",
    "version": 3
   },
   "file_extension": ".py",
   "mimetype": "text/x-python",
   "name": "python",
   "nbconvert_exporter": "python",
   "pygments_lexer": "ipython3",
   "version": "3.9.13"
  }
 },
 "nbformat": 4,
 "nbformat_minor": 5
}
