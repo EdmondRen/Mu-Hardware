{
 "cells": [
  {
   "cell_type": "code",
   "execution_count": 1,
   "id": "1b9bd3c6-9114-4f26-86d6-f3141ccb9192",
   "metadata": {},
   "outputs": [
    {
     "data": {
      "text/plain": [
       "<module 'visa_helper' from 'C:\\\\Users\\\\mathusla\\\\Documents\\\\MATHUSLA\\\\JupyterNotebooks\\\\Keysight\\\\visa_helper.py'>"
      ]
     },
     "execution_count": 1,
     "metadata": {},
     "output_type": "execute_result"
    }
   ],
   "source": [
    "from importlib import reload\n",
    "import visa_helper as vs\n",
    "import time\n",
    "import joblib\n",
    "from pylab import *\n",
    "reload(vs)\n"
   ]
  },
  {
   "cell_type": "code",
   "execution_count": 2,
   "id": "e3920812-a89a-41b6-ac4f-c25bec2ade28",
   "metadata": {},
   "outputs": [
    {
     "name": "stdout",
     "output_type": "stream",
     "text": [
      "[0]: TCPIP0::192.168.137.165::inst0::INSTR cannot be opened\n",
      "[1]: USB0::0x0957::0x17BC::MY60101365::0::INSTR cannot be opened\n",
      "[2]: USB0::0x0957::0x4108::MY60410882::0::INSTR  Agilent Technologies,81160A,MY60410882,2.0.0.0-2.6\n",
      "\n"
     ]
    },
    {
     "name": "stdin",
     "output_type": "stream",
     "text": [
      "Type number to connect: 2\n"
     ]
    },
    {
     "name": "stdout",
     "output_type": "stream",
     "text": [
      "Connected to VISA [USB0::0x0957::0x4108::MY60410882::0::INSTR]:  Agilent Technologies,81160A,MY60410882,2.0.0.0-2.6\n",
      "\n"
     ]
    }
   ],
   "source": [
    "# funcgen = vs.connect() # set 30 second\n",
    "funcgen = vs.connect(\"USB0::0x0957::0x4108::MY60410882::0::INSTR\") # set 30 second"
   ]
  },
  {
   "cell_type": "code",
   "execution_count": 5,
   "id": "f997ed13-858c-471f-83a7-1bb574321a28",
   "metadata": {},
   "outputs": [],
   "source": [
    "vs.disconnect(funcgen)"
   ]
  },
  {
   "cell_type": "code",
   "execution_count": 175,
   "id": "d83c3c37-6d7d-4f38-a7b9-ccf0a48c482c",
   "metadata": {},
   "outputs": [],
   "source": [
    "def pulse_2pole(t_rise_ns, t_fall_ns, samples_per_ns, total_samples=8000, pre_trig_samples=0):\n",
    "    total_time = total_samples/samples_per_ns\n",
    "    x = np.linspace(0,total_time, total_samples)\n",
    "    x0 = pre_trig_samples/samples_per_ns\n",
    "    dx=(x-x0)\n",
    "    dx*=np.heaviside(dx,1)\n",
    "    kernel = (np.exp(-dx/t_fall_ns)-np.exp(-dx/t_rise_ns))/np.heaviside(dx,1)\n",
    "    kernel_normed = kernel/max(kernel)#(np.dot(kernel,kernel/max(kernel)))\n",
    "    \n",
    "    return kernel_normed"
   ]
  },
  {
   "cell_type": "code",
   "execution_count": 202,
   "id": "bc4ec5fe-50dd-4437-980b-0655e0a7137a",
   "metadata": {},
   "outputs": [
    {
     "data": {
      "text/plain": [
       "[<matplotlib.lines.Line2D at 0x1d3a39e6f40>]"
      ]
     },
     "execution_count": 202,
     "metadata": {},
     "output_type": "execute_result"
    },
    {
     "data": {
      "image/png": "[encoded data removed]",
      "text/plain": [
       "<Figure size 640x480 with 1 Axes>"
      ]
     },
     "metadata": {},
     "output_type": "display_data"
    }
   ],
   "source": [
    "# waveform = pulse_2pole(3,20,samples_per_ns = 1, total_samples = waveform_length, pre_trig_samples=0)\n",
    "plot(waveform)"
   ]
  },
  {
   "cell_type": "code",
   "execution_count": 203,
   "id": "77bb0f97-7cb7-48a1-9917-60bfb0e67e9b",
   "metadata": {},
   "outputs": [],
   "source": [
    "waveform_length = 16000\n",
    "waveform = pulse_2pole(2,20,samples_per_ns = 2, total_samples = waveform_length, pre_trig_samples=10)\n",
    "\n",
    "\n",
    "SCPIcmd = \":DATA1 VOLATILE, \"\n",
    "strData = \"\"\n",
    "for i in waveform:\n",
    "    strData+=f\"{i:.7f},\"\n",
    "strData=strData[:-1]   \n",
    "SCPIcmd = SCPIcmd + strData"
   ]
  },
  {
   "cell_type": "code",
   "execution_count": 204,
   "id": "1ee147d6-848f-47bf-b2d4-cf0528e11c11",
   "metadata": {},
   "outputs": [],
   "source": [
    "# # Download data points to volatile memory #\n",
    "\n",
    "my_instrument.write(\"*RST\"); # Reset the function generator\n",
    "my_instrument.clear();   # Clear the buffer\n",
    "time.sleep(1)\n",
    "\n",
    "\n",
    "my_instrument.write(SCPIcmd);\n",
    "\n",
    "\n",
    "# # Set up arbitrary waveform and output #\n",
    "my_instrument.write(\":DATA1:COPY PULSE, VOLATILE\");    # Copy arb to non-volatile memory\n",
    "my_instrument.write(\":FUNCtion1:USER PULSE\");         # Select the active arb waveform\n",
    "my_instrument.write(\":FUNCtion1:SHAPe USER\");         # Output the selected arb waveform\n",
    "# Interpolation ON\n",
    "my_instrument.write(\":DIG:TRAN:INT\")\n",
    "\n",
    "my_instrument.write(\":OUTPut1 OFF\");                    # Disable output\n",
    "my_instrument.write(\":OUTPut1:LOAD 50\");               # Output termination is 50 Ohms\n",
    "\n",
    "# Set the frequency to 125kHz so that 1 sample = 1ns. 122070 = 2Ghz/16384\n",
    "my_instrument.write(\":FREQuency1 122070;VOLTage 0.05\");  \n",
    "my_instrument.write(\":OUTPut1 ON\");                    # Enable output\n",
    "\n",
    "time.sleep(1)\n",
    "\n",
    "# # # Trigger: set to internal perodic trigger\n",
    "# my_instrument.write(\":ARM:SOUR1 INT2\")\n",
    "# my_instrument.write(\":ARM:FREQ1 100\")"
   ]
  },
  {
   "cell_type": "code",
   "execution_count": 206,
   "id": "60b43116-2ab9-45e8-9f43-b035dcf929af",
   "metadata": {},
   "outputs": [],
   "source": [
    "my_instrument.write(\":FREQuency1 122070;VOLTage 0.1\");  \n"
   ]
  },
  {
   "cell_type": "code",
   "execution_count": 187,
   "id": "ea47f87d-8aaf-4373-85f9-7b6ff6ffb7aa",
   "metadata": {},
   "outputs": [
    {
     "data": {
      "text/plain": [
       "15"
      ]
     },
     "execution_count": 187,
     "metadata": {},
     "output_type": "execute_result"
    }
   ],
   "source": [
    "my_instrument.write(\":DIG:TRAN:INT\")\n"
   ]
  },
  {
   "cell_type": "code",
   "execution_count": 186,
   "id": "33c11427-a5ba-4e4c-b567-c522a2b1753c",
   "metadata": {},
   "outputs": [],
   "source": [
    "my_instrument.write(\":FREQuency1 2000;VOLTage 5\");  \n"
   ]
  },
  {
   "cell_type": "code",
   "execution_count": 182,
   "id": "c044b652-f397-4664-9275-80aa7b370e90",
   "metadata": {},
   "outputs": [
    {
     "data": {
      "text/plain": [
       "16"
      ]
     },
     "execution_count": 182,
     "metadata": {},
     "output_type": "execute_result"
    }
   ],
   "source": [
    "my_instrument.write(\":ARM:SOUR1 INT2\")\n",
    "my_instrument.write(\":ARM:FREQ1 100\")"
   ]
  },
  {
   "cell_type": "code",
   "execution_count": 207,
   "id": "531e34b8-3da1-45cc-84ca-8f20552a5776",
   "metadata": {},
   "outputs": [],
   "source": [
    "my_instrument.close()\n",
    "rm.close()"
   ]
  },
  {
   "cell_type": "code",
   "execution_count": 208,
   "id": "582423b5-526f-43ef-b1bc-62a94bb829ed",
   "metadata": {},
   "outputs": [
    {
     "data": {
      "text/plain": [
       "[]"
      ]
     },
     "execution_count": 208,
     "metadata": {},
     "output_type": "execute_result"
    }
   ],
   "source": [
    "rm.list_opened_resources()"
   ]
  },
  {
   "cell_type": "code",
   "execution_count": 174,
   "id": "ccefa131-5ac0-4698-b055-5a372981463c",
   "metadata": {},
   "outputs": [],
   "source": [
    "my_instrument.write(\":DISP ON\")\n",
    "# my_instrument.write(\":DISP OFF\")\n",
    "my_instrument.write(\"*RST\"); # Reset the function generator\n",
    "my_instrument.clear();   # Clear the buffer"
   ]
  }
 ],
 "metadata": {
  "kernelspec": {
   "display_name": "Python 3 (ipykernel)",
   "language": "python",
   "name": "python3"
  },
  "language_info": {
   "codemirror_mode": {
    "name": "ipython",
    "version": 3
   },
   "file_extension": ".py",
   "mimetype": "text/x-python",
   "name": "python",
   "nbconvert_exporter": "python",
   "pygments_lexer": "ipython3",
   "version": "3.9.13"
  }
 },
 "nbformat": 4,
 "nbformat_minor": 5
}
